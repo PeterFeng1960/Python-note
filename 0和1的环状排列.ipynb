{
 "cells": [
  {
   "cell_type": "code",
   "execution_count": 1,
   "metadata": {},
   "outputs": [
    {
     "data": {
      "text/plain": [
       "352"
      ]
     },
     "execution_count": 1,
     "metadata": {},
     "output_type": "execute_result"
    }
   ],
   "source": [
    "# 求0和1的循环排列, 0和1的数量不限：\n",
    "\n",
    "def ring(n):  # n是排列的长度\n",
    "\n",
    "    R=[]  #用来存放筛选的结果\n",
    "    \n",
    "    for i  in range(2**n):\n",
    "        c='{:0>'+ str(n) + 'b}'     #格式化字符串，把整数变成二进制，再变成字符串\n",
    "        ic=c.format(i)    #    格式化数字\n",
    "        L=list(ic not in r*2 for r in R)   #筛选出R中存在的排列及其相关的环状排列\n",
    "        if all(L):\n",
    "            R.append(ic)\n",
    "#     return R\n",
    "    return len(R) \n",
    "\n",
    "\n",
    "\n",
    "ring(12)"
   ]
  },
  {
   "cell_type": "code",
   "execution_count": null,
   "metadata": {},
   "outputs": [],
   "source": []
  },
  {
   "cell_type": "code",
   "execution_count": 17,
   "metadata": {},
   "outputs": [
    {
     "data": {
      "text/plain": [
       "['0000', '0001', '0011', '0101', '0111', '1111']"
      ]
     },
     "execution_count": 17,
     "metadata": {},
     "output_type": "execute_result"
    }
   ],
   "source": [
    "class Ring():\n",
    "    \n",
    "    def __init__(self,n):\n",
    "         self.n=n\n",
    "        \n",
    "    def __Rper__(self):\n",
    "        R=[]\n",
    "        for i  in range(2**self.n):\n",
    "            c='{:0>'+ str(self.n) + 'b}'     #格式化字符串，把整数变成二进制，再变成字符串\n",
    "            ic=c.format(i)    #    格式化数字\n",
    "            L=list(ic not in r*2 for r in R)   #筛选出R中存在的排列及其相关的环状排列\n",
    "            if all(L):\n",
    "                R.append(ic)\n",
    "        return R \n",
    "    \n",
    "        \n",
    "rper=Ring(4)\n",
    "rper.__Rper__()"
   ]
  },
  {
   "cell_type": "code",
   "execution_count": 28,
   "metadata": {},
   "outputs": [
    {
     "data": {
      "text/plain": [
       "['\\x00',\n",
       " '\\x01',\n",
       " '\\x02',\n",
       " '\\x03',\n",
       " '\\x04',\n",
       " '\\x05',\n",
       " '\\x06',\n",
       " '\\x07',\n",
       " '\\x08',\n",
       " '\\t',\n",
       " '\\n',\n",
       " '\\x0b',\n",
       " '\\x0c',\n",
       " '\\r',\n",
       " '\\x0e',\n",
       " '\\x0f',\n",
       " '\\x10',\n",
       " '\\x11',\n",
       " '\\x12',\n",
       " '\\x13',\n",
       " '\\x14',\n",
       " '\\x15',\n",
       " '\\x16',\n",
       " '\\x17',\n",
       " '\\x18',\n",
       " '\\x19',\n",
       " '\\x1a',\n",
       " '\\x1b',\n",
       " '\\x1c',\n",
       " '\\x1d',\n",
       " '\\x1e',\n",
       " '\\x1f',\n",
       " ' ',\n",
       " '!',\n",
       " '\"',\n",
       " '#',\n",
       " '$',\n",
       " '%',\n",
       " '&',\n",
       " \"'\",\n",
       " '(',\n",
       " ')',\n",
       " '*',\n",
       " '+',\n",
       " ',',\n",
       " '-',\n",
       " '.',\n",
       " '/',\n",
       " '0',\n",
       " '1',\n",
       " '2',\n",
       " '3',\n",
       " '4',\n",
       " '5',\n",
       " '6',\n",
       " '7',\n",
       " '8',\n",
       " '9',\n",
       " ':',\n",
       " ';',\n",
       " '<',\n",
       " '=',\n",
       " '>',\n",
       " '?',\n",
       " '@',\n",
       " 'A',\n",
       " 'B',\n",
       " 'C',\n",
       " 'D',\n",
       " 'E',\n",
       " 'F',\n",
       " 'G',\n",
       " 'H',\n",
       " 'I',\n",
       " 'J',\n",
       " 'K',\n",
       " 'L',\n",
       " 'M',\n",
       " 'N',\n",
       " 'O',\n",
       " 'P',\n",
       " 'Q',\n",
       " 'R',\n",
       " 'S',\n",
       " 'T',\n",
       " 'U',\n",
       " 'V',\n",
       " 'W',\n",
       " 'X',\n",
       " 'Y',\n",
       " 'Z',\n",
       " '[',\n",
       " '\\\\',\n",
       " ']',\n",
       " '^',\n",
       " '_',\n",
       " '`',\n",
       " 'a',\n",
       " 'b',\n",
       " 'c']"
      ]
     },
     "execution_count": 28,
     "metadata": {},
     "output_type": "execute_result"
    }
   ],
   "source": [
    "[chr(i) for i in range(100)]\n"
   ]
  },
  {
   "cell_type": "code",
   "execution_count": 31,
   "metadata": {},
   "outputs": [
    {
     "data": {
      "text/plain": [
       "[(0, 1), (0, 1)]"
      ]
     },
     "execution_count": 31,
     "metadata": {},
     "output_type": "execute_result"
    }
   ],
   "source": [
    "[(0,1)]*2"
   ]
  },
  {
   "cell_type": "code",
   "execution_count": 32,
   "metadata": {},
   "outputs": [
    {
     "data": {
      "text/plain": [
       "[0, 1, 0, 1]"
      ]
     },
     "execution_count": 32,
     "metadata": {},
     "output_type": "execute_result"
    }
   ],
   "source": [
    "#解包\n",
    "[*(0,1)]*2"
   ]
  },
  {
   "cell_type": "code",
   "execution_count": 46,
   "metadata": {},
   "outputs": [
    {
     "data": {
      "text/plain": [
       "[(0, 0, 0),\n",
       " (0, 0, 1),\n",
       " (0, 1, 0),\n",
       " (0, 1, 1),\n",
       " (1, 0, 0),\n",
       " (1, 0, 1),\n",
       " (1, 1, 0),\n",
       " (1, 1, 1)]"
      ]
     },
     "execution_count": 46,
     "metadata": {},
     "output_type": "execute_result"
    }
   ],
   "source": [
    "import itertools as it\n",
    "a=it.product(*[(0,1)]*3)\n",
    "list(a)"
   ]
  },
  {
   "cell_type": "code",
   "execution_count": 170,
   "metadata": {},
   "outputs": [
    {
     "name": "stdout",
     "output_type": "stream",
     "text": [
      "(1, 0, 0)\n"
     ]
    }
   ],
   "source": [
    "import itertools as it\n",
    "Li=it.product(*[(0,1)]*3)\n",
    "for i in Li:\n",
    "    if (all((sum(i)==1, i[0]+i[2]==1,\n",
    "            i[1]+i[0]==1, i[2]+i[0]+i[1]==1))):\n",
    "        print(i)    "
   ]
  },
  {
   "cell_type": "code",
   "execution_count": null,
   "metadata": {},
   "outputs": [],
   "source": []
  },
  {
   "cell_type": "code",
   "execution_count": 2,
   "metadata": {},
   "outputs": [
    {
     "data": {
      "text/plain": [
       "[0, 1, 2, 3, 4, 5, 6, 7, 8, 9]"
      ]
     },
     "execution_count": 2,
     "metadata": {},
     "output_type": "execute_result"
    }
   ],
   "source": [
    "li=list(range(10))\n",
    "li"
   ]
  },
  {
   "cell_type": "code",
   "execution_count": 5,
   "metadata": {},
   "outputs": [
    {
     "data": {
      "text/plain": [
       "[0, 1, 2, 'a', 'a', 3, 4, 5, 6, 7, 8, 9]"
      ]
     },
     "execution_count": 5,
     "metadata": {},
     "output_type": "execute_result"
    }
   ],
   "source": [
    "li.insert(3,\"a\")\n",
    "li"
   ]
  },
  {
   "cell_type": "code",
   "execution_count": 22,
   "metadata": {},
   "outputs": [
    {
     "data": {
      "text/plain": [
       "(0, 'a')"
      ]
     },
     "execution_count": 22,
     "metadata": {},
     "output_type": "execute_result"
    }
   ],
   "source": [
    "l=['a','b','c']\n",
    "ll=enumerate(l)\n",
    "# ll.__next__()\n",
    "next(ll)"
   ]
  },
  {
   "cell_type": "code",
   "execution_count": 16,
   "metadata": {},
   "outputs": [
    {
     "name": "stdout",
     "output_type": "stream",
     "text": [
      "(0, 'a') (1, 'b') (2, 'c') "
     ]
    }
   ],
   "source": [
    "while True:\n",
    "     try:\n",
    "         x = ll.__next__()\n",
    "         print(x, end=' ')\n",
    "     except StopIteration as e:\n",
    "         break    "
   ]
  },
  {
   "cell_type": "code",
   "execution_count": 5,
   "metadata": {},
   "outputs": [
    {
     "name": "stdout",
     "output_type": "stream",
     "text": [
      "{0: 'a', 1: 'b', 2: 'c'}\n"
     ]
    },
    {
     "data": {
      "text/plain": [
       "'c'"
      ]
     },
     "execution_count": 5,
     "metadata": {},
     "output_type": "execute_result"
    }
   ],
   "source": [
    "l=['a','b','c']\n",
    "ll=dict(enumerate(l))\n",
    "print(ll)\n",
    "# print(ll.keys())\n",
    "# print(ll.values())\n",
    "ll.get(2)\n",
    "# for i,j in ll:\n",
    "#     print(i,j if i>1)"
   ]
  },
  {
   "cell_type": "code",
   "execution_count": 31,
   "metadata": {},
   "outputs": [
    {
     "ename": "SyntaxError",
     "evalue": "invalid character in identifier (<ipython-input-31-b1c56d92aa30>, line 2)",
     "output_type": "error",
     "traceback": [
      "\u001b[1;36m  File \u001b[1;32m\"<ipython-input-31-b1c56d92aa30>\"\u001b[1;36m, line \u001b[1;32m2\u001b[0m\n\u001b[1;33m    print(2 if i>4 else 0）\u001b[0m\n\u001b[1;37m                         ^\u001b[0m\n\u001b[1;31mSyntaxError\u001b[0m\u001b[1;31m:\u001b[0m invalid character in identifier\n"
     ]
    }
   ],
   "source": [
    "i=5\n",
    "print(2 if i>4 else 0）"
   ]
  },
  {
   "cell_type": "code",
   "execution_count": null,
   "metadata": {},
   "outputs": [],
   "source": []
  },
  {
   "cell_type": "markdown",
   "metadata": {},
   "source": [
    "两个2和4个1组成的排列有多少？"
   ]
  },
  {
   "cell_type": "code",
   "execution_count": 16,
   "metadata": {},
   "outputs": [
    {
     "data": {
      "text/plain": [
       "[2, 2, 1, 1, 1, 1]"
      ]
     },
     "execution_count": 16,
     "metadata": {},
     "output_type": "execute_result"
    }
   ],
   "source": [
    "a=[2]*2+[1]*4\n",
    "a"
   ]
  },
  {
   "cell_type": "code",
   "execution_count": 81,
   "metadata": {},
   "outputs": [
    {
     "data": {
      "text/plain": [
       "(2, 2, 1, 1, 1, 1)"
      ]
     },
     "execution_count": 81,
     "metadata": {},
     "output_type": "execute_result"
    }
   ],
   "source": [
    "import itertools as it\n",
    "b=iter(it.permutations(a))\n",
    "b.__next__()\n",
    "next(b)"
   ]
  },
  {
   "cell_type": "code",
   "execution_count": 45,
   "metadata": {},
   "outputs": [
    {
     "data": {
      "text/plain": [
       "15.0"
      ]
     },
     "execution_count": 45,
     "metadata": {},
     "output_type": "execute_result"
    }
   ],
   "source": [
    "from functools import reduce\n",
    "\n",
    "def factorial(n):\n",
    "    return reduce(lambda x,y:x*y,range(1,n+1))\n",
    "    \n",
    "factorial(6)/factorial(4)/factorial(2)"
   ]
  },
  {
   "cell_type": "code",
   "execution_count": 46,
   "metadata": {},
   "outputs": [
    {
     "ename": "NameError",
     "evalue": "name 'fatorial' is not defined",
     "output_type": "error",
     "traceback": [
      "\u001b[1;31m---------------------------------------------------------------------------\u001b[0m",
      "\u001b[1;31mNameError\u001b[0m                                 Traceback (most recent call last)",
      "\u001b[1;32m<ipython-input-46-bffdd8d57c06>\u001b[0m in \u001b[0;36m<module>\u001b[1;34m\u001b[0m\n\u001b[1;32m----> 1\u001b[1;33m \u001b[0mfactorial\u001b[0m\u001b[1;33m(\u001b[0m\u001b[1;36m6\u001b[0m\u001b[1;33m)\u001b[0m\u001b[1;33m/\u001b[0m\u001b[0mfactorial\u001b[0m\u001b[1;33m(\u001b[0m\u001b[1;36m2\u001b[0m\u001b[1;33m)\u001b[0m\u001b[1;33m/\u001b[0m\u001b[0mfatorial\u001b[0m\u001b[1;33m(\u001b[0m\u001b[1;36m4\u001b[0m\u001b[1;33m)\u001b[0m\u001b[1;33m/\u001b[0m\u001b[1;36m6\u001b[0m\u001b[1;33m\u001b[0m\u001b[1;33m\u001b[0m\u001b[0m\n\u001b[0m",
      "\u001b[1;31mNameError\u001b[0m: name 'fatorial' is not defined"
     ]
    }
   ],
   "source": [
    "factorial(6)/factorial(2)/fatorial(4)/6"
   ]
  },
  {
   "cell_type": "code",
   "execution_count": null,
   "metadata": {},
   "outputs": [],
   "source": []
  },
  {
   "cell_type": "code",
   "execution_count": 90,
   "metadata": {},
   "outputs": [
    {
     "data": {
      "text/plain": [
       "15"
      ]
     },
     "execution_count": 90,
     "metadata": {},
     "output_type": "execute_result"
    }
   ],
   "source": [
    "a=[0,0,1,1,1,1]\n",
    "min_a=int(0b1111)\n",
    "min_a"
   ]
  },
  {
   "cell_type": "code",
   "execution_count": 91,
   "metadata": {},
   "outputs": [
    {
     "data": {
      "text/plain": [
       "60"
      ]
     },
     "execution_count": 91,
     "metadata": {},
     "output_type": "execute_result"
    }
   ],
   "source": [
    "max_a=int(0b111100)\n",
    "max_a"
   ]
  },
  {
   "cell_type": "code",
   "execution_count": null,
   "metadata": {},
   "outputs": [],
   "source": [
    "c='{:0>'+ str(n) + 'b}'"
   ]
  },
  {
   "cell_type": "code",
   "execution_count": 83,
   "metadata": {},
   "outputs": [
    {
     "data": {
      "text/plain": [
       "'0b1111'"
      ]
     },
     "execution_count": 83,
     "metadata": {},
     "output_type": "execute_result"
    }
   ],
   "source": [
    "bin(15)"
   ]
  },
  {
   "cell_type": "code",
   "execution_count": null,
   "metadata": {},
   "outputs": [],
   "source": [
    "# 求任意长度0和1的环状排列，长度大于12时，运算时间就会比较长\n",
    "\n",
    "import itertools as it\n",
    "\n",
    "class RP():\n",
    "    \n",
    "    \n",
    "    def __init__(self,length,ones):\n",
    "        self.length=length\n",
    "        self.ones=ones    \n",
    "      \n",
    "    def make_pers(self):\n",
    "        lst=[1]*self.ones+[0]*(self.length-self.ones)\n",
    "        pers=it.permutations(lst, self.length)\n",
    "        pers=set(pers)    \n",
    "        return pers\n",
    "    \n",
    "    def tup_to_st(self,tup):\n",
    "        st=\"\"\n",
    "        for i in range(len(tup)):\n",
    "            st+=str(tup[i])            \n",
    "        return st  \n",
    "    \n",
    "    def tups_to_sts(self):\n",
    "        tups=self.make_pers()\n",
    "        sts=[]\n",
    "        for i in tups:\n",
    "            sts.append(self.tup_to_st(i))\n",
    "        return sts\n",
    "    \n",
    "    def make_rpers(self):\n",
    "        sts=self.tups_to_sts()\n",
    "        R=[]\n",
    "        for i in sts:\n",
    "            L=list(i not in r*2 for r in R) \n",
    "            if all(L):\n",
    "                R.append(i)                \n",
    "        return R\n",
    "    \n",
    "#     def move(self,x):\n",
    "#         f=lambda x:x[1:6]+[x[0]]\n",
    "#         return f(x)\n",
    "    \n",
    "#     def get_circle(self):\n",
    "#         cir=[0]*6\n",
    "#         x=self.lst\n",
    "#         for i in range(6):\n",
    "#             if i==0:\n",
    "#                 cir[i]=x\n",
    "#             else:\n",
    "#                 cir[i]=self.move(cir[i-1])\n",
    "#         return cir\n",
    "     \n",
    "#         def filt(self):\n",
    "#             pass\n",
    "            \n",
    "        \n",
    "r=RP(12,6)\n",
    "R=r.make_rpers()\n",
    "R\n"
   ]
  },
  {
   "cell_type": "code",
   "execution_count": null,
   "metadata": {},
   "outputs": [],
   "source": []
  },
  {
   "cell_type": "code",
   "execution_count": null,
   "metadata": {},
   "outputs": [],
   "source": [
    "class RP():\n",
    "    lst=[x for x in range(15,61)]\n",
    "    \n",
    "    def __init__(self):\n",
    "        pass\n",
    "    \n",
    "    def move(self,n):\n",
    "        a=n*2%64+n*2//64\n",
    "        return a\n",
    "    \n",
    "    def get_cir(self, n):  # 15<=n<=60\n",
    "        C=[]*6\n",
    "        for i in range(6):\n",
    "            if i==0:\n",
    "                C.append(n)\n",
    "            else:\n",
    "                C.append(move(C[i-1]))\n",
    "        return C\n",
    "            \n",
    "    def filt(self):  #筛选出所有包含4个1的排列\n",
    "        lst1=[]\n",
    "        c='{:0>8b}' #格式化字符串，把整数变成二进制，再变成字符串\n",
    "        for i in lst:\n",
    "            ic=c.format(i) \n",
    "            L=ic.count('1')  #把数字变成字符串，筛选出\n",
    "            if L==4:\n",
    "                lst1.append (ic)\n",
    "        return lst1\n",
    "\n",
    "r=RP()\n",
    "# r.move(60)\n",
    "# r.get_cir(15)\n",
    "b=r.filt()\n",
    "len(b)\n",
    "b"
   ]
  },
  {
   "cell_type": "code",
   "execution_count": 2,
   "metadata": {},
   "outputs": [
    {
     "data": {
      "text/plain": [
       "3"
      ]
     },
     "execution_count": 2,
     "metadata": {},
     "output_type": "execute_result"
    }
   ],
   "source": [
    "s=[1,2,3,4]\n",
    "s[2]"
   ]
  },
  {
   "cell_type": "code",
   "execution_count": 1,
   "metadata": {},
   "outputs": [
    {
     "data": {
      "text/plain": [
       "16"
      ]
     },
     "execution_count": 1,
     "metadata": {},
     "output_type": "execute_result"
    }
   ],
   "source": [
    "9+7"
   ]
  }
 ],
 "metadata": {
  "kernelspec": {
   "display_name": "Python 3",
   "language": "python",
   "name": "python3"
  },
  "language_info": {
   "codemirror_mode": {
    "name": "ipython",
    "version": 3
   },
   "file_extension": ".py",
   "mimetype": "text/x-python",
   "name": "python",
   "nbconvert_exporter": "python",
   "pygments_lexer": "ipython3",
   "version": "3.7.6"
  }
 },
 "nbformat": 4,
 "nbformat_minor": 4
}
